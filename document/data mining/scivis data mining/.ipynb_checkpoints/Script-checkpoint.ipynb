{
 "cells": [
  {
   "cell_type": "code",
   "execution_count": 1,
   "metadata": {
    "collapsed": true
   },
   "outputs": [],
   "source": [
    "# this file is used to clean data name, randomly choose 210 target image\n",
    "import numpy as np\n",
    "import pandas as pd\n",
    "import csv\n",
    "import pymongo as pm\n",
    "import os"
   ]
  },
  {
   "cell_type": "code",
   "execution_count": 6,
   "metadata": {
    "collapsed": true
   },
   "outputs": [],
   "source": [
    "## 3. Sample dataset to choose 230 target images\n",
    "def sampleTarget():\n",
    "        metaData = pd.read_csv('scivis data2.csv',encoding=\"latin-1\");\n",
    "        metaSample = metaData.sample(frac=0.2)\n",
    "        metaRemain = metaData.drop(metaSample.index)\n",
    "        metaSample.to_csv('target data.csv',index=False)\n",
    "        metaRemain.to_csv('filler data.csv',index=False)"
   ]
  },
  {
   "cell_type": "code",
   "execution_count": 7,
   "metadata": {},
   "outputs": [],
   "source": [
    "sampleTarget()"
   ]
  },
  {
   "cell_type": "code",
   "execution_count": null,
   "metadata": {
    "collapsed": true
   },
   "outputs": [],
   "source": [
    "def tagTarget():\n",
    "    metaData = pd.read_csv('scivis data.csv',encoding=\"latin-1\");\n",
    "    targetData = pd.read_csv('target data.csv',encoding=\"latin-1\");\n",
    "    "
   ]
  }
 ],
 "metadata": {
  "kernelspec": {
   "display_name": "Python 3",
   "language": "python",
   "name": "python3"
  },
  "language_info": {
   "codemirror_mode": {
    "name": "ipython",
    "version": 3
   },
   "file_extension": ".py",
   "mimetype": "text/x-python",
   "name": "python",
   "nbconvert_exporter": "python",
   "pygments_lexer": "ipython3",
   "version": "3.6.2"
  }
 },
 "nbformat": 4,
 "nbformat_minor": 2
}
